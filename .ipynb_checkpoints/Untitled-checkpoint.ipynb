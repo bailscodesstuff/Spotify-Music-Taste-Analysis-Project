{
 "cells": [
  {
   "cell_type": "code",
   "execution_count": null,
   "metadata": {},
   "outputs": [],
   "source": [
    "#test\n",
    "maya = '1158424416'\n",
    "hasan = 'h4zzzn'\n",
    "\n",
    "m_playlist_1 = get_user_playlist(maya, 'spotify:playlist:2QuTSg2LkrARhzlIHMSPFD', sp) #100\n",
    "m_df_1 = create_dataframe(m_playlist_1)\n",
    "m_playlist_2 = get_user_playlist(maya, 'spotify:playlist:1jEd91bSorc9g4ZdCa6tMG', sp) # 450\n",
    "m_df_2 = create_dataframe(m_playlist_2)\n",
    "m_playlist_3 = get_user_playlist(maya, 'spotify:playlist:1c6ypt3CctGwQ3xiGCaCdF',sp) #100\n",
    "m_df_3 = create_dataframe(m_playlist_3) \n",
    "m_playlist_4 = get_user_playlist(maya, 'spotify:playlist:7vHM2dX9idlb3kTUjRnrhS',sp) #200\n",
    "\n",
    "h_playlist = get_user_playlist(hasan,'spotify:playlist:1qGCeqXfFOmWdf29Zvay2H',sp)\n",
    "h_df = create_dataframe(h_playlist)"
   ]
  }
 ],
 "metadata": {
  "kernelspec": {
   "display_name": "Python 3",
   "language": "python",
   "name": "python3"
  },
  "language_info": {
   "codemirror_mode": {
    "name": "ipython",
    "version": 3
   },
   "file_extension": ".py",
   "mimetype": "text/x-python",
   "name": "python",
   "nbconvert_exporter": "python",
   "pygments_lexer": "ipython3",
   "version": "3.7.4"
  }
 },
 "nbformat": 4,
 "nbformat_minor": 4
}
